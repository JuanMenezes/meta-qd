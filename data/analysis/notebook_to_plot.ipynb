{
 "cells": [
  {
   "cell_type": "code",
   "execution_count": null,
   "metadata": {},
   "outputs": [],
   "source": [
    "pip install pandas seaborn matplotlib"
   ]
  },
  {
   "cell_type": "code",
   "execution_count": 8,
   "metadata": {},
   "outputs": [],
   "source": [
    "import json\n",
    "import os\n",
    "import pandas as pd\n",
    "import matplotlib.pyplot as plt\n",
    "import seaborn as sns"
   ]
  },
  {
   "cell_type": "code",
   "execution_count": 22,
   "metadata": {},
   "outputs": [
    {
     "name": "stdout",
     "output_type": "stream",
     "text": [
      "Counter({'nome_da_tabela': Counter({<class 'str'>: 6}), 'confiabilidade': Counter({<class 'float'>: 6}), 'completude': Counter({<class 'float'>: 6}), 'consistencia': Counter({<class 'float'>: 6}), 'precisao': Counter({<class 'float'>: 6})})\n"
     ]
    }
   ],
   "source": [
    "from collections import Counter\n",
    "# Carregar os dados do CSV usando o pandas\n",
    "dados = pd.read_csv('/home/juan/Documents/meta-qd/data/analysis/metricas_ufrpe.csv')\n",
    "\n",
    "df = pd.DataFrame(dados)\n",
    "\n",
    "# Contar a ocorrência dos tipos em todas as colunas\n",
    "contagem_tipos = Counter()\n",
    "\n",
    "for coluna in df.columns:\n",
    "    contagem_tipos[coluna] = Counter(map(type, df[coluna]))\n",
    "\n",
    "print(contagem_tipos)"
   ]
  }
 ],
 "metadata": {
  "kernelspec": {
   "display_name": "meta-qd_venv",
   "language": "python",
   "name": "python3"
  },
  "language_info": {
   "codemirror_mode": {
    "name": "ipython",
    "version": 3
   },
   "file_extension": ".py",
   "mimetype": "text/x-python",
   "name": "python",
   "nbconvert_exporter": "python",
   "pygments_lexer": "ipython3",
   "version": "3.11.6"
  }
 },
 "nbformat": 4,
 "nbformat_minor": 2
}
