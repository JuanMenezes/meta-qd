{
 "cells": [
  {
   "cell_type": "code",
   "execution_count": 1,
   "metadata": {},
   "outputs": [
    {
     "name": "stdout",
     "output_type": "stream",
     "text": [
      "Collecting matplotlib\n",
      "  Downloading matplotlib-3.8.2-cp311-cp311-manylinux_2_17_x86_64.manylinux2014_x86_64.whl.metadata (5.8 kB)\n",
      "Collecting contourpy>=1.0.1 (from matplotlib)\n",
      "  Downloading contourpy-1.2.0-cp311-cp311-manylinux_2_17_x86_64.manylinux2014_x86_64.whl.metadata (5.8 kB)\n",
      "Collecting cycler>=0.10 (from matplotlib)\n",
      "  Downloading cycler-0.12.1-py3-none-any.whl.metadata (3.8 kB)\n",
      "Collecting fonttools>=4.22.0 (from matplotlib)\n",
      "  Downloading fonttools-4.48.1-cp311-cp311-manylinux_2_17_x86_64.manylinux2014_x86_64.whl.metadata (158 kB)\n",
      "\u001b[2K     \u001b[90m━━━━━━━━━━━━━━━━━━━━━━━━━━━━━━━━━━━━━━━\u001b[0m \u001b[32m158.9/158.9 kB\u001b[0m \u001b[31m1.7 MB/s\u001b[0m eta \u001b[36m0:00:00\u001b[0ma \u001b[36m0:00:01\u001b[0m\n",
      "\u001b[?25hCollecting kiwisolver>=1.3.1 (from matplotlib)\n",
      "  Downloading kiwisolver-1.4.5-cp311-cp311-manylinux_2_17_x86_64.manylinux2014_x86_64.whl.metadata (6.4 kB)\n",
      "Requirement already satisfied: numpy<2,>=1.21 in /home/juan/Documents/meta-qd_venv/lib/python3.11/site-packages (from matplotlib) (1.26.2)\n",
      "Requirement already satisfied: packaging>=20.0 in /home/juan/Documents/meta-qd_venv/lib/python3.11/site-packages (from matplotlib) (23.2)\n",
      "Collecting pillow>=8 (from matplotlib)\n",
      "  Downloading pillow-10.2.0-cp311-cp311-manylinux_2_28_x86_64.whl.metadata (9.7 kB)\n",
      "Collecting pyparsing>=2.3.1 (from matplotlib)\n",
      "  Downloading pyparsing-3.1.1-py3-none-any.whl.metadata (5.1 kB)\n",
      "Requirement already satisfied: python-dateutil>=2.7 in /home/juan/Documents/meta-qd_venv/lib/python3.11/site-packages (from matplotlib) (2.8.2)\n",
      "Requirement already satisfied: six>=1.5 in /home/juan/Documents/meta-qd_venv/lib/python3.11/site-packages (from python-dateutil>=2.7->matplotlib) (1.16.0)\n",
      "Downloading matplotlib-3.8.2-cp311-cp311-manylinux_2_17_x86_64.manylinux2014_x86_64.whl (11.6 MB)\n",
      "\u001b[2K   \u001b[90m━━━━━━━━━━━━━━━━━━━━━━━━━━━━━━━━━━━━━━━━\u001b[0m \u001b[32m11.6/11.6 MB\u001b[0m \u001b[31m68.3 MB/s\u001b[0m eta \u001b[36m0:00:00\u001b[0ma \u001b[36m0:00:01\u001b[0m\n",
      "\u001b[?25hDownloading contourpy-1.2.0-cp311-cp311-manylinux_2_17_x86_64.manylinux2014_x86_64.whl (313 kB)\n",
      "\u001b[2K   \u001b[90m━━━━━━━━━━━━━━━━━━━━━━━━━━━━━━━━━━━━━━━\u001b[0m \u001b[32m313.4/313.4 kB\u001b[0m \u001b[31m107.3 MB/s\u001b[0m eta \u001b[36m0:00:00\u001b[0m\n",
      "\u001b[?25hDownloading cycler-0.12.1-py3-none-any.whl (8.3 kB)\n",
      "Downloading fonttools-4.48.1-cp311-cp311-manylinux_2_17_x86_64.manylinux2014_x86_64.whl (4.9 MB)\n",
      "\u001b[2K   \u001b[90m━━━━━━━━━━━━━━━━━━━━━━━━━━━━━━━━━━━━━━━━\u001b[0m \u001b[32m4.9/4.9 MB\u001b[0m \u001b[31m58.2 MB/s\u001b[0m eta \u001b[36m0:00:00\u001b[0ma \u001b[36m0:00:01\u001b[0mm\n",
      "\u001b[?25hDownloading kiwisolver-1.4.5-cp311-cp311-manylinux_2_17_x86_64.manylinux2014_x86_64.whl (1.4 MB)\n",
      "\u001b[2K   \u001b[90m━━━━━━━━━━━━━━━━━━━━━━━━━━━━━━━━━━━━━━━━\u001b[0m \u001b[32m1.4/1.4 MB\u001b[0m \u001b[31m99.4 MB/s\u001b[0m eta \u001b[36m0:00:00\u001b[0m\n",
      "\u001b[?25hDownloading pillow-10.2.0-cp311-cp311-manylinux_2_28_x86_64.whl (4.5 MB)\n",
      "\u001b[2K   \u001b[90m━━━━━━━━━━━━━━━━━━━━━━━━━━━━━━━━━━━━━━━━\u001b[0m \u001b[32m4.5/4.5 MB\u001b[0m \u001b[31m90.9 MB/s\u001b[0m eta \u001b[36m0:00:00\u001b[0mta \u001b[36m0:00:01\u001b[0m\n",
      "\u001b[?25hDownloading pyparsing-3.1.1-py3-none-any.whl (103 kB)\n",
      "\u001b[2K   \u001b[90m━━━━━━━━━━━━━━━━━━━━━━━━━━━━━━━━━━━━━━━━\u001b[0m \u001b[32m103.1/103.1 kB\u001b[0m \u001b[31m9.0 MB/s\u001b[0m eta \u001b[36m0:00:00\u001b[0m\n",
      "\u001b[?25hInstalling collected packages: pyparsing, pillow, kiwisolver, fonttools, cycler, contourpy, matplotlib\n",
      "Successfully installed contourpy-1.2.0 cycler-0.12.1 fonttools-4.48.1 kiwisolver-1.4.5 matplotlib-3.8.2 pillow-10.2.0 pyparsing-3.1.1\n",
      "\n",
      "\u001b[1m[\u001b[0m\u001b[34;49mnotice\u001b[0m\u001b[1;39;49m]\u001b[0m\u001b[39;49m A new release of pip is available: \u001b[0m\u001b[31;49m23.3.1\u001b[0m\u001b[39;49m -> \u001b[0m\u001b[32;49m24.0\u001b[0m\n",
      "\u001b[1m[\u001b[0m\u001b[34;49mnotice\u001b[0m\u001b[1;39;49m]\u001b[0m\u001b[39;49m To update, run: \u001b[0m\u001b[32;49mpip install --upgrade pip\u001b[0m\n",
      "Note: you may need to restart the kernel to use updated packages.\n"
     ]
    }
   ],
   "source": [
    "pip install matplotlib"
   ]
  },
  {
   "cell_type": "code",
   "execution_count": 3,
   "metadata": {},
   "outputs": [],
   "source": [
    "import json\n",
    "import os\n",
    "import matplotlib.pyplot as plt"
   ]
  },
  {
   "cell_type": "code",
   "execution_count": 9,
   "metadata": {},
   "outputs": [
    {
     "name": "stdout",
     "output_type": "stream",
     "text": [
      "[{'metricas_geradas_por_metadados': [{'nome_da_tabela': 'data/metadata/ufrn/componentes_por_curriculo_metadados.json', 'credibilidade': 0.8571428571428571, 'completude': 0.5714285714285714, 'consistencia': 0.25, 'precisao': 0.75}, {'nome_da_tabela': 'data/metadata/ufrn/ensino_de_graduacao_metadados.json', 'credibilidade': 0.18181818181818182, 'completude': 0.4545454545454546, 'consistencia': 0.5, 'precisao': 0.5}, {'nome_da_tabela': 'data/metadata/ufrn/matriculados_turma_graduacao_metadados.json', 'credibilidade': 0.35294117647058826, 'completude': 0.4117647058823529, 'consistencia': 0.47058823529411764, 'precisao': 0.5294117647058824}, {'nome_da_tabela': 'data/metadata/ufrn/liquidacoes_metadados.json', 'credibilidade': 0.36363636363636365, 'completude': 0.40909090909090906, 'consistencia': 0.09090909090909094, 'precisao': 0.9090909090909091}]}, {'metricas_geradas_por_metadados': [{'nome_da_tabela': 'data/metadata/ufrpe/censo_cursos_metadados.json', 'credibilidade': 0.95, 'completude': 0.0, 'consistencia': 0.595, 'precisao': 0.405}, {'nome_da_tabela': 'data/metadata/ufrpe/componentes_por_curriculo_metadados.json', 'credibilidade': 0.5454545454545454, 'completude': 0.0, 'consistencia': 0.4545454545454546, 'precisao': 0.5454545454545454}, {'nome_da_tabela': 'data/metadata/ufrpe/qtd_alunos_graduacao_metadados.json', 'credibilidade': 0.75, 'completude': 0.0, 'consistencia': 0.25, 'precisao': 0.75}, {'nome_da_tabela': 'data/metadata/ufrpe/matriculados_turma_graduacao_metadados.json', 'credibilidade': 0.8, 'completude': 0.0, 'consistencia': 0.4, 'precisao': 0.6}, {'nome_da_tabela': 'data/metadata/ufrpe/liquidacoes_metadados.json', 'credibilidade': 0.25, 'completude': 0.04166666666666663, 'consistencia': 0.45833333333333337, 'precisao': 0.5416666666666666}, {'nome_da_tabela': 'data/metadata/ufrpe/ensino_de_graduacao_metadados.json', 'credibilidade': 0.14285714285714285, 'completude': 0.0, 'consistencia': 0.7142857142857143, 'precisao': 0.2857142857142857}]}]\n"
     ]
    },
    {
     "ename": "KeyError",
     "evalue": "'nome_da_tabela'",
     "output_type": "error",
     "traceback": [
      "\u001b[0;31m---------------------------------------------------------------------------\u001b[0m",
      "\u001b[0;31mKeyError\u001b[0m                                  Traceback (most recent call last)",
      "Cell \u001b[0;32mIn[9], line 21\u001b[0m\n\u001b[1;32m     19\u001b[0m \u001b[38;5;28mprint\u001b[39m(dados)\n\u001b[1;32m     20\u001b[0m \u001b[38;5;66;03m# Extrair métricas\u001b[39;00m\n\u001b[0;32m---> 21\u001b[0m nomes_tabelas \u001b[38;5;241m=\u001b[39m \u001b[43m[\u001b[49m\u001b[43mitem\u001b[49m\u001b[43m[\u001b[49m\u001b[38;5;124;43m\"\u001b[39;49m\u001b[38;5;124;43mnome_da_tabela\u001b[39;49m\u001b[38;5;124;43m\"\u001b[39;49m\u001b[43m]\u001b[49m\u001b[43m \u001b[49m\u001b[38;5;28;43;01mfor\u001b[39;49;00m\u001b[43m \u001b[49m\u001b[43mitem\u001b[49m\u001b[43m \u001b[49m\u001b[38;5;129;43;01min\u001b[39;49;00m\u001b[43m \u001b[49m\u001b[43mdados\u001b[49m\u001b[43m]\u001b[49m\n\u001b[1;32m     22\u001b[0m credibilidade \u001b[38;5;241m=\u001b[39m [item[\u001b[38;5;124m\"\u001b[39m\u001b[38;5;124mcredibilidade\u001b[39m\u001b[38;5;124m\"\u001b[39m] \u001b[38;5;28;01mfor\u001b[39;00m item \u001b[38;5;129;01min\u001b[39;00m dados]\n\u001b[1;32m     23\u001b[0m completude \u001b[38;5;241m=\u001b[39m [item[\u001b[38;5;124m\"\u001b[39m\u001b[38;5;124mcompletude\u001b[39m\u001b[38;5;124m\"\u001b[39m] \u001b[38;5;28;01mfor\u001b[39;00m item \u001b[38;5;129;01min\u001b[39;00m dados]\n",
      "Cell \u001b[0;32mIn[9], line 21\u001b[0m, in \u001b[0;36m<listcomp>\u001b[0;34m(.0)\u001b[0m\n\u001b[1;32m     19\u001b[0m \u001b[38;5;28mprint\u001b[39m(dados)\n\u001b[1;32m     20\u001b[0m \u001b[38;5;66;03m# Extrair métricas\u001b[39;00m\n\u001b[0;32m---> 21\u001b[0m nomes_tabelas \u001b[38;5;241m=\u001b[39m [\u001b[43mitem\u001b[49m\u001b[43m[\u001b[49m\u001b[38;5;124;43m\"\u001b[39;49m\u001b[38;5;124;43mnome_da_tabela\u001b[39;49m\u001b[38;5;124;43m\"\u001b[39;49m\u001b[43m]\u001b[49m \u001b[38;5;28;01mfor\u001b[39;00m item \u001b[38;5;129;01min\u001b[39;00m dados]\n\u001b[1;32m     22\u001b[0m credibilidade \u001b[38;5;241m=\u001b[39m [item[\u001b[38;5;124m\"\u001b[39m\u001b[38;5;124mcredibilidade\u001b[39m\u001b[38;5;124m\"\u001b[39m] \u001b[38;5;28;01mfor\u001b[39;00m item \u001b[38;5;129;01min\u001b[39;00m dados]\n\u001b[1;32m     23\u001b[0m completude \u001b[38;5;241m=\u001b[39m [item[\u001b[38;5;124m\"\u001b[39m\u001b[38;5;124mcompletude\u001b[39m\u001b[38;5;124m\"\u001b[39m] \u001b[38;5;28;01mfor\u001b[39;00m item \u001b[38;5;129;01min\u001b[39;00m dados]\n",
      "\u001b[0;31mKeyError\u001b[0m: 'nome_da_tabela'"
     ]
    }
   ],
   "source": [
    "# Caminho para os arquivos JSON\n",
    "caminho_base = \"/home/\"\n",
    "# Lista de caminhos para os arquivos JSON\n",
    "caminhos_arquivos = [\n",
    "    \"juan/Documents/meta-qd/data/analysis/metricas_ufrn.json\",\n",
    "    \"juan/Documents/meta-qd/data/analysis/metricas_ufrpe.json\"\n",
    "]\n",
    "\n",
    "# Lista para armazenar os dados lidos dos arquivos JSON\n",
    "dados = []\n",
    "# TODO corrigir esse erro de importação do formato JSON antes de começar a escrever\n",
    "# Lê os dados de cada arquivo\n",
    "for caminho_arquivo in caminhos_arquivos:\n",
    "    caminho_completo = os.path.join(caminho_base, caminho_arquivo)\n",
    "    with open(caminho_completo, 'r') as arquivo:\n",
    "        json_metadado = json.load(arquivo)\n",
    "        dados.append(json_metadado)\n",
    "\n",
    "print(dados)\n",
    "# Extrair métricas\n",
    "nomes_tabelas = [item[\"nome_da_tabela\"] for item in dados]\n",
    "credibilidade = [item[\"credibilidade\"] for item in dados]\n",
    "completude = [item[\"completude\"] for item in dados]\n",
    "consistencia = [item[\"consistencia\"] for item in dados]\n",
    "precisao = [item[\"precisao\"] for item in dados]\n",
    "\n",
    "# Plotar gráficos\n",
    "fig, axs = plt.subplots(2, 2, figsize=(10, 8))\n",
    "\n",
    "axs[0, 0].bar(nomes_tabelas, credibilidade, color='blue')\n",
    "axs[0, 0].set_title('Credibilidade')\n",
    "\n",
    "axs[0, 1].bar(nomes_tabelas, completude, color='orange')\n",
    "axs[0, 1].set_title('Completude')\n",
    "\n",
    "axs[1, 0].bar(nomes_tabelas, consistencia, color='green')\n",
    "axs[1, 0].set_title('Consistência')\n",
    "\n",
    "axs[1, 1].bar(nomes_tabelas, precisao, color='red')\n",
    "axs[1, 1].set_title('Precisão')\n",
    "\n",
    "plt.tight_layout()\n",
    "plt.show()\n"
   ]
  }
 ],
 "metadata": {
  "kernelspec": {
   "display_name": "meta-qd_venv",
   "language": "python",
   "name": "python3"
  },
  "language_info": {
   "codemirror_mode": {
    "name": "ipython",
    "version": 3
   },
   "file_extension": ".py",
   "mimetype": "text/x-python",
   "name": "python",
   "nbconvert_exporter": "python",
   "pygments_lexer": "ipython3",
   "version": "3.11.6"
  }
 },
 "nbformat": 4,
 "nbformat_minor": 2
}
